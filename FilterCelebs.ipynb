{
 "cells": [
  {
   "cell_type": "code",
   "execution_count": 1,
   "metadata": {},
   "outputs": [
    {
     "data": {
      "text/html": [
       "<div>\n",
       "<style scoped>\n",
       "    .dataframe tbody tr th:only-of-type {\n",
       "        vertical-align: middle;\n",
       "    }\n",
       "\n",
       "    .dataframe tbody tr th {\n",
       "        vertical-align: top;\n",
       "    }\n",
       "\n",
       "    .dataframe thead th {\n",
       "        text-align: right;\n",
       "    }\n",
       "</style>\n",
       "<table border=\"1\" class=\"dataframe\">\n",
       "  <thead>\n",
       "    <tr style=\"text-align: right;\">\n",
       "      <th></th>\n",
       "      <th>Id</th>\n",
       "      <th>Name</th>\n",
       "      <th>Language</th>\n",
       "    </tr>\n",
       "  </thead>\n",
       "  <tbody>\n",
       "    <tr>\n",
       "      <th>0</th>\n",
       "      <td>m.01008l47</td>\n",
       "      <td>Patrick Cummins</td>\n",
       "      <td>en</td>\n",
       "    </tr>\n",
       "    <tr>\n",
       "      <th>2</th>\n",
       "      <td>m.01008l96</td>\n",
       "      <td>Mohamed Guessous</td>\n",
       "      <td>en</td>\n",
       "    </tr>\n",
       "    <tr>\n",
       "      <th>5</th>\n",
       "      <td>m.01008lnk</td>\n",
       "      <td>Tsvetta Kaleynska</td>\n",
       "      <td>en</td>\n",
       "    </tr>\n",
       "    <tr>\n",
       "      <th>10</th>\n",
       "      <td>m.01008lp2</td>\n",
       "      <td>Caio Henrique Siqueira Sanchez</td>\n",
       "      <td>en</td>\n",
       "    </tr>\n",
       "    <tr>\n",
       "      <th>13</th>\n",
       "      <td>m.01008nqj</td>\n",
       "      <td>Julio Ríos Gallego</td>\n",
       "      <td>en</td>\n",
       "    </tr>\n",
       "    <tr>\n",
       "      <th>15</th>\n",
       "      <td>m.01008nrf</td>\n",
       "      <td>Nilson Ricardo da Silva Júnior</td>\n",
       "      <td>en</td>\n",
       "    </tr>\n",
       "    <tr>\n",
       "      <th>21</th>\n",
       "      <td>m.01008t1y</td>\n",
       "      <td>Alexei Starobinsky</td>\n",
       "      <td>en</td>\n",
       "    </tr>\n",
       "    <tr>\n",
       "      <th>26</th>\n",
       "      <td>m.01008tlv</td>\n",
       "      <td>Hilda Rix Nicholas</td>\n",
       "      <td>en</td>\n",
       "    </tr>\n",
       "    <tr>\n",
       "      <th>28</th>\n",
       "      <td>m.01008znx</td>\n",
       "      <td>Behrouz Makvandi</td>\n",
       "      <td>en</td>\n",
       "    </tr>\n",
       "    <tr>\n",
       "      <th>31</th>\n",
       "      <td>m.010095lb</td>\n",
       "      <td>Borislav Terzić</td>\n",
       "      <td>en</td>\n",
       "    </tr>\n",
       "    <tr>\n",
       "      <th>34</th>\n",
       "      <td>m.010096_j</td>\n",
       "      <td>Lukas Klostermann</td>\n",
       "      <td>en</td>\n",
       "    </tr>\n",
       "    <tr>\n",
       "      <th>36</th>\n",
       "      <td>m.01009pkh</td>\n",
       "      <td>Uroš Drenović</td>\n",
       "      <td>en</td>\n",
       "    </tr>\n",
       "    <tr>\n",
       "      <th>39</th>\n",
       "      <td>m.0100_6n3</td>\n",
       "      <td>Poongothai Chandrahasan</td>\n",
       "      <td>en</td>\n",
       "    </tr>\n",
       "    <tr>\n",
       "      <th>41</th>\n",
       "      <td>m.0100_lsp</td>\n",
       "      <td>Tae-hwa Eom</td>\n",
       "      <td>en</td>\n",
       "    </tr>\n",
       "    <tr>\n",
       "      <th>43</th>\n",
       "      <td>m.0100_p_b</td>\n",
       "      <td>Antonino Bologna</td>\n",
       "      <td>en</td>\n",
       "    </tr>\n",
       "  </tbody>\n",
       "</table>\n",
       "</div>"
      ],
      "text/plain": [
       "            Id                            Name Language\n",
       "0   m.01008l47                 Patrick Cummins       en\n",
       "2   m.01008l96                Mohamed Guessous       en\n",
       "5   m.01008lnk               Tsvetta Kaleynska       en\n",
       "10  m.01008lp2  Caio Henrique Siqueira Sanchez       en\n",
       "13  m.01008nqj              Julio Ríos Gallego       en\n",
       "15  m.01008nrf  Nilson Ricardo da Silva Júnior       en\n",
       "21  m.01008t1y              Alexei Starobinsky       en\n",
       "26  m.01008tlv              Hilda Rix Nicholas       en\n",
       "28  m.01008znx                Behrouz Makvandi       en\n",
       "31  m.010095lb                 Borislav Terzić       en\n",
       "34  m.010096_j               Lukas Klostermann       en\n",
       "36  m.01009pkh                   Uroš Drenović       en\n",
       "39  m.0100_6n3         Poongothai Chandrahasan       en\n",
       "41  m.0100_lsp                     Tae-hwa Eom       en\n",
       "43  m.0100_p_b                Antonino Bologna       en"
      ]
     },
     "execution_count": 1,
     "metadata": {},
     "output_type": "execute_result"
    }
   ],
   "source": [
    "import pandas as pd\n",
    "clebs = pd.read_csv('Top1M_MidList.Name.tsv', delimiter=\"\\t\")\n",
    "c = clebs['Name'].str.split(\"@\", n=1, expand=True)\n",
    "clebs['Name'] = c[0]\n",
    "clebs['Language'] = c[1]\n",
    "clebs = clebs[clebs['Language'] == 'en']\n",
    "clebs.head(n=15)"
   ]
  },
  {
   "cell_type": "code",
   "execution_count": 2,
   "metadata": {},
   "outputs": [],
   "source": [
    "filter_name = ['Jake Gyllenhaal', 'Christian Bale', 'Robert Downey Jr.', 'Leonardo DiCaprio', 'Tom Cruise', \n",
    "               'Brad Pitt', 'Tom Hanks', 'Hugh Jackman', 'Matt Damon', 'Will Ferrell', \n",
    "               'Natalie Portman', 'Scarlett Johansson', 'Anne Hathaway', 'Keira Knightley', 'Rachel McAdams'\n",
    "               , 'Megan Fox', 'Sandra Bullock', 'Kate Beckinsale', 'Jennifer Aniston', 'Emma Stone']"
   ]
  },
  {
   "cell_type": "code",
   "execution_count": 25,
   "metadata": {},
   "outputs": [
    {
     "data": {
      "text/html": [
       "<div>\n",
       "<style scoped>\n",
       "    .dataframe tbody tr th:only-of-type {\n",
       "        vertical-align: middle;\n",
       "    }\n",
       "\n",
       "    .dataframe tbody tr th {\n",
       "        vertical-align: top;\n",
       "    }\n",
       "\n",
       "    .dataframe thead th {\n",
       "        text-align: right;\n",
       "    }\n",
       "</style>\n",
       "<table border=\"1\" class=\"dataframe\">\n",
       "  <thead>\n",
       "    <tr style=\"text-align: right;\">\n",
       "      <th></th>\n",
       "      <th>Id</th>\n",
       "      <th>Name</th>\n",
       "      <th>Language</th>\n",
       "    </tr>\n",
       "  </thead>\n",
       "  <tbody>\n",
       "    <tr>\n",
       "      <th>58415</th>\n",
       "      <td>m.0169dl</td>\n",
       "      <td>Matt Damon</td>\n",
       "      <td>en</td>\n",
       "    </tr>\n",
       "    <tr>\n",
       "      <th>62738</th>\n",
       "      <td>m.016z2j</td>\n",
       "      <td>Robert Downey Jr.</td>\n",
       "      <td>en</td>\n",
       "    </tr>\n",
       "    <tr>\n",
       "      <th>70122</th>\n",
       "      <td>m.018grr</td>\n",
       "      <td>Will Ferrell</td>\n",
       "      <td>en</td>\n",
       "    </tr>\n",
       "    <tr>\n",
       "      <th>123531</th>\n",
       "      <td>m.01l2fn</td>\n",
       "      <td>Keira Knightley</td>\n",
       "      <td>en</td>\n",
       "    </tr>\n",
       "    <tr>\n",
       "      <th>155551</th>\n",
       "      <td>m.01pk8v</td>\n",
       "      <td>Kate Beckinsale</td>\n",
       "      <td>en</td>\n",
       "    </tr>\n",
       "  </tbody>\n",
       "</table>\n",
       "</div>"
      ],
      "text/plain": [
       "              Id               Name Language\n",
       "58415   m.0169dl         Matt Damon       en\n",
       "62738   m.016z2j  Robert Downey Jr.       en\n",
       "70122   m.018grr       Will Ferrell       en\n",
       "123531  m.01l2fn    Keira Knightley       en\n",
       "155551  m.01pk8v    Kate Beckinsale       en"
      ]
     },
     "execution_count": 25,
     "metadata": {},
     "output_type": "execute_result"
    }
   ],
   "source": [
    "filtered = clebs[clebs['Name'].isin(filter_name)]\n",
    "filtered.head()"
   ]
  },
  {
   "cell_type": "code",
   "execution_count": 13,
   "metadata": {},
   "outputs": [],
   "source": [
    "ids = filtered['Id'].values"
   ]
  },
  {
   "cell_type": "code",
   "execution_count": 15,
   "metadata": {},
   "outputs": [],
   "source": [
    "facesUrl = pd.read_csv('images.tsv', delimiter='\\t', error_bad_lines=False)"
   ]
  },
  {
   "cell_type": "code",
   "execution_count": 16,
   "metadata": {},
   "outputs": [
    {
     "data": {
      "text/html": [
       "<div>\n",
       "<style scoped>\n",
       "    .dataframe tbody tr th:only-of-type {\n",
       "        vertical-align: middle;\n",
       "    }\n",
       "\n",
       "    .dataframe tbody tr th {\n",
       "        vertical-align: top;\n",
       "    }\n",
       "\n",
       "    .dataframe thead th {\n",
       "        text-align: right;\n",
       "    }\n",
       "</style>\n",
       "<table border=\"1\" class=\"dataframe\">\n",
       "  <thead>\n",
       "    <tr style=\"text-align: right;\">\n",
       "      <th></th>\n",
       "      <th>Id</th>\n",
       "      <th>Image</th>\n",
       "    </tr>\n",
       "  </thead>\n",
       "  <tbody>\n",
       "    <tr>\n",
       "      <th>0</th>\n",
       "      <td>m.0169dl</td>\n",
       "      <td>/9j/4AAQSkZJRgABAQEAYABgAAD/2wBDAAQCAwMDAgQDAw...</td>\n",
       "    </tr>\n",
       "    <tr>\n",
       "      <th>1</th>\n",
       "      <td>m.0169dl</td>\n",
       "      <td>/9j/4AAQSkZJRgABAQEAYABgAAD/2wBDAAQCAwMDAgQDAw...</td>\n",
       "    </tr>\n",
       "    <tr>\n",
       "      <th>2</th>\n",
       "      <td>m.0169dl</td>\n",
       "      <td>/9j/4AAQSkZJRgABAQEAYABgAAD/2wBDAAQCAwMDAgQDAw...</td>\n",
       "    </tr>\n",
       "    <tr>\n",
       "      <th>3</th>\n",
       "      <td>m.0169dl</td>\n",
       "      <td>/9j/4AAQSkZJRgABAQEAYABgAAD/2wBDAAQCAwMDAgQDAw...</td>\n",
       "    </tr>\n",
       "    <tr>\n",
       "      <th>4</th>\n",
       "      <td>m.0169dl</td>\n",
       "      <td>/9j/4AAQSkZJRgABAQEAYABgAAD/2wBDAAQCAwMDAgQDAw...</td>\n",
       "    </tr>\n",
       "  </tbody>\n",
       "</table>\n",
       "</div>"
      ],
      "text/plain": [
       "         Id                                              Image\n",
       "0  m.0169dl  /9j/4AAQSkZJRgABAQEAYABgAAD/2wBDAAQCAwMDAgQDAw...\n",
       "1  m.0169dl  /9j/4AAQSkZJRgABAQEAYABgAAD/2wBDAAQCAwMDAgQDAw...\n",
       "2  m.0169dl  /9j/4AAQSkZJRgABAQEAYABgAAD/2wBDAAQCAwMDAgQDAw...\n",
       "3  m.0169dl  /9j/4AAQSkZJRgABAQEAYABgAAD/2wBDAAQCAwMDAgQDAw...\n",
       "4  m.0169dl  /9j/4AAQSkZJRgABAQEAYABgAAD/2wBDAAQCAwMDAgQDAw..."
      ]
     },
     "execution_count": 16,
     "metadata": {},
     "output_type": "execute_result"
    }
   ],
   "source": [
    "facesUrl.head()"
   ]
  },
  {
   "cell_type": "code",
   "execution_count": 20,
   "metadata": {},
   "outputs": [],
   "source": [
    "facesUrl = facesUrl[facesUrl['Id'].isin(ids)]"
   ]
  },
  {
   "cell_type": "code",
   "execution_count": 24,
   "metadata": {},
   "outputs": [
    {
     "data": {
      "text/html": [
       "<div>\n",
       "<style scoped>\n",
       "    .dataframe tbody tr th:only-of-type {\n",
       "        vertical-align: middle;\n",
       "    }\n",
       "\n",
       "    .dataframe tbody tr th {\n",
       "        vertical-align: top;\n",
       "    }\n",
       "\n",
       "    .dataframe thead th {\n",
       "        text-align: right;\n",
       "    }\n",
       "</style>\n",
       "<table border=\"1\" class=\"dataframe\">\n",
       "  <thead>\n",
       "    <tr style=\"text-align: right;\">\n",
       "      <th></th>\n",
       "      <th>Id</th>\n",
       "      <th>Image</th>\n",
       "    </tr>\n",
       "  </thead>\n",
       "  <tbody>\n",
       "    <tr>\n",
       "      <th>0</th>\n",
       "      <td>m.0169dl</td>\n",
       "      <td>/9j/4AAQSkZJRgABAQEAYABgAAD/2wBDAAQCAwMDAgQDAw...</td>\n",
       "    </tr>\n",
       "    <tr>\n",
       "      <th>1</th>\n",
       "      <td>m.0169dl</td>\n",
       "      <td>/9j/4AAQSkZJRgABAQEAYABgAAD/2wBDAAQCAwMDAgQDAw...</td>\n",
       "    </tr>\n",
       "    <tr>\n",
       "      <th>2</th>\n",
       "      <td>m.0169dl</td>\n",
       "      <td>/9j/4AAQSkZJRgABAQEAYABgAAD/2wBDAAQCAwMDAgQDAw...</td>\n",
       "    </tr>\n",
       "    <tr>\n",
       "      <th>3</th>\n",
       "      <td>m.0169dl</td>\n",
       "      <td>/9j/4AAQSkZJRgABAQEAYABgAAD/2wBDAAQCAwMDAgQDAw...</td>\n",
       "    </tr>\n",
       "    <tr>\n",
       "      <th>4</th>\n",
       "      <td>m.0169dl</td>\n",
       "      <td>/9j/4AAQSkZJRgABAQEAYABgAAD/2wBDAAQCAwMDAgQDAw...</td>\n",
       "    </tr>\n",
       "  </tbody>\n",
       "</table>\n",
       "</div>"
      ],
      "text/plain": [
       "         Id                                              Image\n",
       "0  m.0169dl  /9j/4AAQSkZJRgABAQEAYABgAAD/2wBDAAQCAwMDAgQDAw...\n",
       "1  m.0169dl  /9j/4AAQSkZJRgABAQEAYABgAAD/2wBDAAQCAwMDAgQDAw...\n",
       "2  m.0169dl  /9j/4AAQSkZJRgABAQEAYABgAAD/2wBDAAQCAwMDAgQDAw...\n",
       "3  m.0169dl  /9j/4AAQSkZJRgABAQEAYABgAAD/2wBDAAQCAwMDAgQDAw...\n",
       "4  m.0169dl  /9j/4AAQSkZJRgABAQEAYABgAAD/2wBDAAQCAwMDAgQDAw..."
      ]
     },
     "execution_count": 24,
     "metadata": {},
     "output_type": "execute_result"
    }
   ],
   "source": [
    "facesUrl.head()"
   ]
  },
  {
   "cell_type": "code",
   "execution_count": 26,
   "metadata": {},
   "outputs": [],
   "source": [
    "clebs = facesUrl.merge(filtered, how='left', left_on='Id', right_on='Id')"
   ]
  },
  {
   "cell_type": "code",
   "execution_count": 28,
   "metadata": {},
   "outputs": [],
   "source": [
    "clebs.drop(columns =['Language', 'Id'], inplace=True)"
   ]
  },
  {
   "cell_type": "code",
   "execution_count": 31,
   "metadata": {},
   "outputs": [],
   "source": [
    "clebs.to_csv('images.csv', index=False)"
   ]
  },
  {
   "cell_type": "code",
   "execution_count": null,
   "metadata": {},
   "outputs": [],
   "source": []
  }
 ],
 "metadata": {
  "kernelspec": {
   "display_name": "Python 3",
   "language": "python",
   "name": "python3"
  },
  "language_info": {
   "codemirror_mode": {
    "name": "ipython",
    "version": 3
   },
   "file_extension": ".py",
   "mimetype": "text/x-python",
   "name": "python",
   "nbconvert_exporter": "python",
   "pygments_lexer": "ipython3",
   "version": "3.7.1"
  }
 },
 "nbformat": 4,
 "nbformat_minor": 2
}
